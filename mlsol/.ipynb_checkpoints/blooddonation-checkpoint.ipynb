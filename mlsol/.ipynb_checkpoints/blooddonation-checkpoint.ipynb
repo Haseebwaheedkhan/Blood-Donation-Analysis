{
 "cells": [
  {
   "cell_type": "code",
   "execution_count": 2,
   "id": "469143f4",
   "metadata": {},
   "outputs": [],
   "source": [
    "# Importing Libraries\n",
    "\n",
    "import pandas as pd\n",
    "import seaborn as sns\n",
    "from sklearn.model_selection import train_test_split\n",
    "from sklearn.metrics import confusion_matrix, accuracy_score, roc_auc_score\n"
   ]
  },
  {
   "cell_type": "code",
   "execution_count": 3,
   "id": "69c6e32d",
   "metadata": {},
   "outputs": [
    {
     "data": {
      "text/html": [
       "<div>\n",
       "<style scoped>\n",
       "    .dataframe tbody tr th:only-of-type {\n",
       "        vertical-align: middle;\n",
       "    }\n",
       "\n",
       "    .dataframe tbody tr th {\n",
       "        vertical-align: top;\n",
       "    }\n",
       "\n",
       "    .dataframe thead th {\n",
       "        text-align: right;\n",
       "    }\n",
       "</style>\n",
       "<table border=\"1\" class=\"dataframe\">\n",
       "  <thead>\n",
       "    <tr style=\"text-align: right;\">\n",
       "      <th></th>\n",
       "      <th>Unnamed: 0</th>\n",
       "      <th>Months since Last Donation</th>\n",
       "      <th>Number of Donations</th>\n",
       "      <th>Total Volume Donated (c.c.)</th>\n",
       "      <th>Months since First Donation</th>\n",
       "      <th>Made Donation in March 2007</th>\n",
       "    </tr>\n",
       "  </thead>\n",
       "  <tbody>\n",
       "    <tr>\n",
       "      <th>0</th>\n",
       "      <td>619</td>\n",
       "      <td>2</td>\n",
       "      <td>50</td>\n",
       "      <td>12500</td>\n",
       "      <td>98</td>\n",
       "      <td>1</td>\n",
       "    </tr>\n",
       "    <tr>\n",
       "      <th>1</th>\n",
       "      <td>664</td>\n",
       "      <td>0</td>\n",
       "      <td>13</td>\n",
       "      <td>3250</td>\n",
       "      <td>28</td>\n",
       "      <td>1</td>\n",
       "    </tr>\n",
       "    <tr>\n",
       "      <th>2</th>\n",
       "      <td>441</td>\n",
       "      <td>1</td>\n",
       "      <td>16</td>\n",
       "      <td>4000</td>\n",
       "      <td>35</td>\n",
       "      <td>1</td>\n",
       "    </tr>\n",
       "    <tr>\n",
       "      <th>3</th>\n",
       "      <td>160</td>\n",
       "      <td>2</td>\n",
       "      <td>20</td>\n",
       "      <td>5000</td>\n",
       "      <td>45</td>\n",
       "      <td>1</td>\n",
       "    </tr>\n",
       "    <tr>\n",
       "      <th>4</th>\n",
       "      <td>358</td>\n",
       "      <td>1</td>\n",
       "      <td>24</td>\n",
       "      <td>6000</td>\n",
       "      <td>77</td>\n",
       "      <td>0</td>\n",
       "    </tr>\n",
       "  </tbody>\n",
       "</table>\n",
       "</div>"
      ],
      "text/plain": [
       "   Unnamed: 0  Months since Last Donation  Number of Donations  \\\n",
       "0         619                           2                   50   \n",
       "1         664                           0                   13   \n",
       "2         441                           1                   16   \n",
       "3         160                           2                   20   \n",
       "4         358                           1                   24   \n",
       "\n",
       "   Total Volume Donated (c.c.)  Months since First Donation  \\\n",
       "0                        12500                           98   \n",
       "1                         3250                           28   \n",
       "2                         4000                           35   \n",
       "3                         5000                           45   \n",
       "4                         6000                           77   \n",
       "\n",
       "   Made Donation in March 2007  \n",
       "0                            1  \n",
       "1                            1  \n",
       "2                            1  \n",
       "3                            1  \n",
       "4                            0  "
      ]
     },
     "execution_count": 3,
     "metadata": {},
     "output_type": "execute_result"
    }
   ],
   "source": [
    "df_train = pd.read_csv(\"blood-train.csv\")\n",
    "df_test = pd.read_csv(\"blood-test.csv\")\n",
    "df_train.head(5)"
   ]
  },
  {
   "cell_type": "markdown",
   "id": "0969dcfa",
   "metadata": {},
   "source": [
    "# Data Exploration"
   ]
  },
  {
   "cell_type": "code",
   "execution_count": 4,
   "id": "b8650cf6",
   "metadata": {},
   "outputs": [
    {
     "name": "stdout",
     "output_type": "stream",
     "text": [
      "(776, 6)\n"
     ]
    }
   ],
   "source": [
    "df_train   = pd.concat([df_train,df_test], axis=0) \n",
    "print(df_train.shape)"
   ]
  },
  {
   "cell_type": "code",
   "execution_count": 5,
   "id": "e9fef67f",
   "metadata": {},
   "outputs": [
    {
     "name": "stdout",
     "output_type": "stream",
     "text": [
      "<class 'pandas.core.frame.DataFrame'>\n",
      "Int64Index: 776 entries, 0 to 199\n",
      "Data columns (total 6 columns):\n",
      " #   Column                       Non-Null Count  Dtype  \n",
      "---  ------                       --------------  -----  \n",
      " 0   Unnamed: 0                   776 non-null    int64  \n",
      " 1   Months since Last Donation   776 non-null    int64  \n",
      " 2   Number of Donations          776 non-null    int64  \n",
      " 3   Total Volume Donated (c.c.)  776 non-null    int64  \n",
      " 4   Months since First Donation  776 non-null    int64  \n",
      " 5   Made Donation in March 2007  576 non-null    float64\n",
      "dtypes: float64(1), int64(5)\n",
      "memory usage: 42.4 KB\n"
     ]
    }
   ],
   "source": [
    "df_train.info()"
   ]
  },
  {
   "cell_type": "markdown",
   "id": "13b98887",
   "metadata": {},
   "source": [
    "# Observations\n",
    "* No null values present \n",
    "* Need to Perform Normalization in 3 and 4 column "
   ]
  },
  {
   "cell_type": "code",
   "execution_count": 6,
   "id": "84affdde",
   "metadata": {},
   "outputs": [
    {
     "data": {
      "text/html": [
       "<div>\n",
       "<style scoped>\n",
       "    .dataframe tbody tr th:only-of-type {\n",
       "        vertical-align: middle;\n",
       "    }\n",
       "\n",
       "    .dataframe tbody tr th {\n",
       "        vertical-align: top;\n",
       "    }\n",
       "\n",
       "    .dataframe thead th {\n",
       "        text-align: right;\n",
       "    }\n",
       "</style>\n",
       "<table border=\"1\" class=\"dataframe\">\n",
       "  <thead>\n",
       "    <tr style=\"text-align: right;\">\n",
       "      <th></th>\n",
       "      <th>Unnamed: 0</th>\n",
       "      <th>Months since Last Donation</th>\n",
       "      <th>Number of Donations</th>\n",
       "      <th>Total Volume Donated (c.c.)</th>\n",
       "      <th>Months since First Donation</th>\n",
       "      <th>Made Donation in March 2007</th>\n",
       "    </tr>\n",
       "  </thead>\n",
       "  <tbody>\n",
       "    <tr>\n",
       "      <th>count</th>\n",
       "      <td>776.000000</td>\n",
       "      <td>776.000000</td>\n",
       "      <td>776.000000</td>\n",
       "      <td>776.000000</td>\n",
       "      <td>776.000000</td>\n",
       "      <td>576.000000</td>\n",
       "    </tr>\n",
       "    <tr>\n",
       "      <th>mean</th>\n",
       "      <td>374.171392</td>\n",
       "      <td>9.453608</td>\n",
       "      <td>5.557990</td>\n",
       "      <td>1389.497423</td>\n",
       "      <td>34.417526</td>\n",
       "      <td>0.239583</td>\n",
       "    </tr>\n",
       "    <tr>\n",
       "      <th>std</th>\n",
       "      <td>215.330133</td>\n",
       "      <td>8.030935</td>\n",
       "      <td>5.841939</td>\n",
       "      <td>1460.484632</td>\n",
       "      <td>24.450047</td>\n",
       "      <td>0.427200</td>\n",
       "    </tr>\n",
       "    <tr>\n",
       "      <th>min</th>\n",
       "      <td>0.000000</td>\n",
       "      <td>0.000000</td>\n",
       "      <td>1.000000</td>\n",
       "      <td>250.000000</td>\n",
       "      <td>2.000000</td>\n",
       "      <td>0.000000</td>\n",
       "    </tr>\n",
       "    <tr>\n",
       "      <th>25%</th>\n",
       "      <td>187.750000</td>\n",
       "      <td>3.000000</td>\n",
       "      <td>2.000000</td>\n",
       "      <td>500.000000</td>\n",
       "      <td>16.000000</td>\n",
       "      <td>0.000000</td>\n",
       "    </tr>\n",
       "    <tr>\n",
       "      <th>50%</th>\n",
       "      <td>375.500000</td>\n",
       "      <td>7.000000</td>\n",
       "      <td>4.000000</td>\n",
       "      <td>1000.000000</td>\n",
       "      <td>28.000000</td>\n",
       "      <td>0.000000</td>\n",
       "    </tr>\n",
       "    <tr>\n",
       "      <th>75%</th>\n",
       "      <td>558.250000</td>\n",
       "      <td>14.000000</td>\n",
       "      <td>7.000000</td>\n",
       "      <td>1750.000000</td>\n",
       "      <td>50.000000</td>\n",
       "      <td>0.000000</td>\n",
       "    </tr>\n",
       "    <tr>\n",
       "      <th>max</th>\n",
       "      <td>747.000000</td>\n",
       "      <td>74.000000</td>\n",
       "      <td>50.000000</td>\n",
       "      <td>12500.000000</td>\n",
       "      <td>98.000000</td>\n",
       "      <td>1.000000</td>\n",
       "    </tr>\n",
       "  </tbody>\n",
       "</table>\n",
       "</div>"
      ],
      "text/plain": [
       "       Unnamed: 0  Months since Last Donation  Number of Donations  \\\n",
       "count  776.000000                  776.000000           776.000000   \n",
       "mean   374.171392                    9.453608             5.557990   \n",
       "std    215.330133                    8.030935             5.841939   \n",
       "min      0.000000                    0.000000             1.000000   \n",
       "25%    187.750000                    3.000000             2.000000   \n",
       "50%    375.500000                    7.000000             4.000000   \n",
       "75%    558.250000                   14.000000             7.000000   \n",
       "max    747.000000                   74.000000            50.000000   \n",
       "\n",
       "       Total Volume Donated (c.c.)  Months since First Donation  \\\n",
       "count                   776.000000                   776.000000   \n",
       "mean                   1389.497423                    34.417526   \n",
       "std                    1460.484632                    24.450047   \n",
       "min                     250.000000                     2.000000   \n",
       "25%                     500.000000                    16.000000   \n",
       "50%                    1000.000000                    28.000000   \n",
       "75%                    1750.000000                    50.000000   \n",
       "max                   12500.000000                    98.000000   \n",
       "\n",
       "       Made Donation in March 2007  \n",
       "count                   576.000000  \n",
       "mean                      0.239583  \n",
       "std                       0.427200  \n",
       "min                       0.000000  \n",
       "25%                       0.000000  \n",
       "50%                       0.000000  \n",
       "75%                       0.000000  \n",
       "max                       1.000000  "
      ]
     },
     "execution_count": 6,
     "metadata": {},
     "output_type": "execute_result"
    }
   ],
   "source": [
    "#Observations\n",
    "# 1st Col = There are people who donated blood in same month  and there are also people who have donated blood 74 months ago\n",
    "# 2nd Col = Min number of donation are 1 and max # of donation given by a person is 50\n",
    "# 3rd col = Everyone has donated atleast 250 cc of blood\n",
    "df_train.describe()"
   ]
  },
  {
   "cell_type": "code",
   "execution_count": 7,
   "id": "e10c6de3",
   "metadata": {},
   "outputs": [
    {
     "data": {
      "text/html": [
       "<div>\n",
       "<style scoped>\n",
       "    .dataframe tbody tr th:only-of-type {\n",
       "        vertical-align: middle;\n",
       "    }\n",
       "\n",
       "    .dataframe tbody tr th {\n",
       "        vertical-align: top;\n",
       "    }\n",
       "\n",
       "    .dataframe thead th {\n",
       "        text-align: right;\n",
       "    }\n",
       "</style>\n",
       "<table border=\"1\" class=\"dataframe\">\n",
       "  <thead>\n",
       "    <tr style=\"text-align: right;\">\n",
       "      <th></th>\n",
       "      <th>Unnamed: 0</th>\n",
       "      <th>Months since Last Donation</th>\n",
       "      <th>Number of Donations</th>\n",
       "      <th>Total Volume Donated (c.c.)</th>\n",
       "      <th>Months since First Donation</th>\n",
       "      <th>Made Donation in March 2007</th>\n",
       "    </tr>\n",
       "  </thead>\n",
       "  <tbody>\n",
       "    <tr>\n",
       "      <th>0</th>\n",
       "      <td>619</td>\n",
       "      <td>2</td>\n",
       "      <td>50</td>\n",
       "      <td>12500</td>\n",
       "      <td>98</td>\n",
       "      <td>1.0</td>\n",
       "    </tr>\n",
       "    <tr>\n",
       "      <th>1</th>\n",
       "      <td>664</td>\n",
       "      <td>0</td>\n",
       "      <td>13</td>\n",
       "      <td>3250</td>\n",
       "      <td>28</td>\n",
       "      <td>1.0</td>\n",
       "    </tr>\n",
       "  </tbody>\n",
       "</table>\n",
       "</div>"
      ],
      "text/plain": [
       "   Unnamed: 0  Months since Last Donation  Number of Donations  \\\n",
       "0         619                           2                   50   \n",
       "1         664                           0                   13   \n",
       "\n",
       "   Total Volume Donated (c.c.)  Months since First Donation  \\\n",
       "0                        12500                           98   \n",
       "1                         3250                           28   \n",
       "\n",
       "   Made Donation in March 2007  \n",
       "0                          1.0  \n",
       "1                          1.0  "
      ]
     },
     "execution_count": 7,
     "metadata": {},
     "output_type": "execute_result"
    }
   ],
   "source": [
    "df_train = df_train.iloc[:,0:]\n",
    "df_train.head(2)"
   ]
  },
  {
   "cell_type": "code",
   "execution_count": 8,
   "id": "b9a04e64",
   "metadata": {},
   "outputs": [
    {
     "data": {
      "text/plain": [
       "<AxesSubplot:ylabel='Months since Last Donation'>"
      ]
     },
     "execution_count": 8,
     "metadata": {},
     "output_type": "execute_result"
    },
    {
     "data": {
      "image/png": "[encoded data removed]",
      "text/plain": [
       "<Figure size 500x500 with 1 Axes>"
      ]
     },
     "metadata": {},
     "output_type": "display_data"
    }
   ],
   "source": [
    "import matplotlib.pyplot as plt\n",
    "# Boxplot of \"Months since Last Donation\"\n",
    "plt.figure(figsize=(5,5))\n",
    "sns.boxplot(y=df_train[\"Months since Last Donation\"])"
   ]
  },
  {
   "cell_type": "code",
   "execution_count": 9,
   "id": "82f66ae8",
   "metadata": {},
   "outputs": [
    {
     "data": {
      "text/html": [
       "<div>\n",
       "<style scoped>\n",
       "    .dataframe tbody tr th:only-of-type {\n",
       "        vertical-align: middle;\n",
       "    }\n",
       "\n",
       "    .dataframe tbody tr th {\n",
       "        vertical-align: top;\n",
       "    }\n",
       "\n",
       "    .dataframe thead th {\n",
       "        text-align: right;\n",
       "    }\n",
       "</style>\n",
       "<table border=\"1\" class=\"dataframe\">\n",
       "  <thead>\n",
       "    <tr style=\"text-align: right;\">\n",
       "      <th></th>\n",
       "      <th>Unnamed: 0</th>\n",
       "      <th>Months since Last Donation</th>\n",
       "      <th>Number of Donations</th>\n",
       "      <th>Total Volume Donated (c.c.)</th>\n",
       "      <th>Months since First Donation</th>\n",
       "      <th>Made Donation in March 2007</th>\n",
       "    </tr>\n",
       "  </thead>\n",
       "  <tbody>\n",
       "    <tr>\n",
       "      <th>Unnamed: 0</th>\n",
       "      <td>1.000000</td>\n",
       "      <td>-0.020120</td>\n",
       "      <td>0.057218</td>\n",
       "      <td>0.057218</td>\n",
       "      <td>0.085548</td>\n",
       "      <td>0.041925</td>\n",
       "    </tr>\n",
       "    <tr>\n",
       "      <th>Months since Last Donation</th>\n",
       "      <td>-0.020120</td>\n",
       "      <td>1.000000</td>\n",
       "      <td>-0.176084</td>\n",
       "      <td>-0.176084</td>\n",
       "      <td>0.164829</td>\n",
       "      <td>-0.261234</td>\n",
       "    </tr>\n",
       "    <tr>\n",
       "      <th>Number of Donations</th>\n",
       "      <td>0.057218</td>\n",
       "      <td>-0.176084</td>\n",
       "      <td>1.000000</td>\n",
       "      <td>1.000000</td>\n",
       "      <td>0.639148</td>\n",
       "      <td>0.220615</td>\n",
       "    </tr>\n",
       "    <tr>\n",
       "      <th>Total Volume Donated (c.c.)</th>\n",
       "      <td>0.057218</td>\n",
       "      <td>-0.176084</td>\n",
       "      <td>1.000000</td>\n",
       "      <td>1.000000</td>\n",
       "      <td>0.639148</td>\n",
       "      <td>0.220615</td>\n",
       "    </tr>\n",
       "    <tr>\n",
       "      <th>Months since First Donation</th>\n",
       "      <td>0.085548</td>\n",
       "      <td>0.164829</td>\n",
       "      <td>0.639148</td>\n",
       "      <td>0.639148</td>\n",
       "      <td>1.000000</td>\n",
       "      <td>-0.019819</td>\n",
       "    </tr>\n",
       "    <tr>\n",
       "      <th>Made Donation in March 2007</th>\n",
       "      <td>0.041925</td>\n",
       "      <td>-0.261234</td>\n",
       "      <td>0.220615</td>\n",
       "      <td>0.220615</td>\n",
       "      <td>-0.019819</td>\n",
       "      <td>1.000000</td>\n",
       "    </tr>\n",
       "  </tbody>\n",
       "</table>\n",
       "</div>"
      ],
      "text/plain": [
       "                             Unnamed: 0  Months since Last Donation  \\\n",
       "Unnamed: 0                     1.000000                   -0.020120   \n",
       "Months since Last Donation    -0.020120                    1.000000   \n",
       "Number of Donations            0.057218                   -0.176084   \n",
       "Total Volume Donated (c.c.)    0.057218                   -0.176084   \n",
       "Months since First Donation    0.085548                    0.164829   \n",
       "Made Donation in March 2007    0.041925                   -0.261234   \n",
       "\n",
       "                             Number of Donations  Total Volume Donated (c.c.)  \\\n",
       "Unnamed: 0                              0.057218                     0.057218   \n",
       "Months since Last Donation             -0.176084                    -0.176084   \n",
       "Number of Donations                     1.000000                     1.000000   \n",
       "Total Volume Donated (c.c.)             1.000000                     1.000000   \n",
       "Months since First Donation             0.639148                     0.639148   \n",
       "Made Donation in March 2007             0.220615                     0.220615   \n",
       "\n",
       "                             Months since First Donation  \\\n",
       "Unnamed: 0                                      0.085548   \n",
       "Months since Last Donation                      0.164829   \n",
       "Number of Donations                             0.639148   \n",
       "Total Volume Donated (c.c.)                     0.639148   \n",
       "Months since First Donation                     1.000000   \n",
       "Made Donation in March 2007                    -0.019819   \n",
       "\n",
       "                             Made Donation in March 2007  \n",
       "Unnamed: 0                                      0.041925  \n",
       "Months since Last Donation                     -0.261234  \n",
       "Number of Donations                             0.220615  \n",
       "Total Volume Donated (c.c.)                     0.220615  \n",
       "Months since First Donation                    -0.019819  \n",
       "Made Donation in March 2007                     1.000000  "
      ]
     },
     "execution_count": 9,
     "metadata": {},
     "output_type": "execute_result"
    }
   ],
   "source": [
    "df_train.corr()"
   ]
  },
  {
   "cell_type": "code",
   "execution_count": 10,
   "id": "8822e40c",
   "metadata": {},
   "outputs": [
    {
     "data": {
      "text/plain": [
       "<AxesSubplot:>"
      ]
     },
     "execution_count": 10,
     "metadata": {},
     "output_type": "execute_result"
    },
    {
     "data": {
      "image/png": "[encoded data removed]",
      "text/plain": [
       "<Figure size 640x480 with 2 Axes>"
      ]
     },
     "metadata": {},
     "output_type": "display_data"
    }
   ],
   "source": [
    "# Now Finding the coorelation between all the variables\n",
    "sns.heatmap(df_train.corr(),annot=True)\n",
    "\n",
    "#Observations\n",
    "# High coorelation values in \"Total Volume Donated (c.c)\" & \"Month Since First Donation\"\n",
    "# High coorelation values in \"Month Since First Donation\" & \"Number of Donations\"\n",
    "# Extremely High coorelation values in \"Total Volume Donated (c.c)\" & \"Number of Donations\"\n",
    "# So we will remove this \"Total Volume Donated (c.c)\" column"
   ]
  },
  {
   "cell_type": "code",
   "execution_count": 11,
   "id": "0bb4ccb7",
   "metadata": {},
   "outputs": [
    {
     "data": {
      "text/html": [
       "<div>\n",
       "<style scoped>\n",
       "    .dataframe tbody tr th:only-of-type {\n",
       "        vertical-align: middle;\n",
       "    }\n",
       "\n",
       "    .dataframe tbody tr th {\n",
       "        vertical-align: top;\n",
       "    }\n",
       "\n",
       "    .dataframe thead th {\n",
       "        text-align: right;\n",
       "    }\n",
       "</style>\n",
       "<table border=\"1\" class=\"dataframe\">\n",
       "  <thead>\n",
       "    <tr style=\"text-align: right;\">\n",
       "      <th></th>\n",
       "      <th>Unnamed: 0</th>\n",
       "      <th>Months since Last Donation</th>\n",
       "      <th>Number of Donations</th>\n",
       "      <th>Months since First Donation</th>\n",
       "      <th>Made Donation in March 2007</th>\n",
       "      <th>Donating for</th>\n",
       "    </tr>\n",
       "  </thead>\n",
       "  <tbody>\n",
       "    <tr>\n",
       "      <th>0</th>\n",
       "      <td>619</td>\n",
       "      <td>2</td>\n",
       "      <td>50</td>\n",
       "      <td>98</td>\n",
       "      <td>1.0</td>\n",
       "      <td>96</td>\n",
       "    </tr>\n",
       "    <tr>\n",
       "      <th>1</th>\n",
       "      <td>664</td>\n",
       "      <td>0</td>\n",
       "      <td>13</td>\n",
       "      <td>28</td>\n",
       "      <td>1.0</td>\n",
       "      <td>28</td>\n",
       "    </tr>\n",
       "    <tr>\n",
       "      <th>2</th>\n",
       "      <td>441</td>\n",
       "      <td>1</td>\n",
       "      <td>16</td>\n",
       "      <td>35</td>\n",
       "      <td>1.0</td>\n",
       "      <td>34</td>\n",
       "    </tr>\n",
       "    <tr>\n",
       "      <th>3</th>\n",
       "      <td>160</td>\n",
       "      <td>2</td>\n",
       "      <td>20</td>\n",
       "      <td>45</td>\n",
       "      <td>1.0</td>\n",
       "      <td>43</td>\n",
       "    </tr>\n",
       "    <tr>\n",
       "      <th>4</th>\n",
       "      <td>358</td>\n",
       "      <td>1</td>\n",
       "      <td>24</td>\n",
       "      <td>77</td>\n",
       "      <td>0.0</td>\n",
       "      <td>76</td>\n",
       "    </tr>\n",
       "  </tbody>\n",
       "</table>\n",
       "</div>"
      ],
      "text/plain": [
       "   Unnamed: 0  Months since Last Donation  Number of Donations  \\\n",
       "0         619                           2                   50   \n",
       "1         664                           0                   13   \n",
       "2         441                           1                   16   \n",
       "3         160                           2                   20   \n",
       "4         358                           1                   24   \n",
       "\n",
       "   Months since First Donation  Made Donation in March 2007  Donating for  \n",
       "0                           98                          1.0            96  \n",
       "1                           28                          1.0            28  \n",
       "2                           35                          1.0            34  \n",
       "3                           45                          1.0            43  \n",
       "4                           77                          0.0            76  "
      ]
     },
     "execution_count": 11,
     "metadata": {},
     "output_type": "execute_result"
    }
   ],
   "source": [
    "# Feature Engineering\n",
    "df_train[\"Donating for\"] = df_train[\"Months since First Donation\"] - df_train[\"Months since Last Donation\"]\n",
    "#Dropping the unnesassary column\n",
    "df_train.drop([\"Total Volume Donated (c.c.)\"], axis=1, inplace=True)\n",
    "\n",
    "df_train.head()"
   ]
  },
  {
   "cell_type": "code",
   "execution_count": 12,
   "id": "71e30049",
   "metadata": {},
   "outputs": [
    {
     "name": "stdout",
     "output_type": "stream",
     "text": [
      "Index(['Unnamed: 0', 'Months since Last Donation', 'Number of Donations',\n",
      "       'Months since First Donation', 'Made Donation in March 2007',\n",
      "       'Donating for'],\n",
      "      dtype='object')\n"
     ]
    },
    {
     "data": {
      "text/html": [
       "<div>\n",
       "<style scoped>\n",
       "    .dataframe tbody tr th:only-of-type {\n",
       "        vertical-align: middle;\n",
       "    }\n",
       "\n",
       "    .dataframe tbody tr th {\n",
       "        vertical-align: top;\n",
       "    }\n",
       "\n",
       "    .dataframe thead th {\n",
       "        text-align: right;\n",
       "    }\n",
       "</style>\n",
       "<table border=\"1\" class=\"dataframe\">\n",
       "  <thead>\n",
       "    <tr style=\"text-align: right;\">\n",
       "      <th></th>\n",
       "      <th>Months since Last Donation</th>\n",
       "      <th>Number of Donations</th>\n",
       "      <th>Months since First Donation</th>\n",
       "      <th>Made Donation in March 2007</th>\n",
       "      <th>Donating for</th>\n",
       "    </tr>\n",
       "  </thead>\n",
       "  <tbody>\n",
       "    <tr>\n",
       "      <th>0</th>\n",
       "      <td>2</td>\n",
       "      <td>50</td>\n",
       "      <td>98</td>\n",
       "      <td>1.0</td>\n",
       "      <td>96</td>\n",
       "    </tr>\n",
       "    <tr>\n",
       "      <th>1</th>\n",
       "      <td>0</td>\n",
       "      <td>13</td>\n",
       "      <td>28</td>\n",
       "      <td>1.0</td>\n",
       "      <td>28</td>\n",
       "    </tr>\n",
       "    <tr>\n",
       "      <th>2</th>\n",
       "      <td>1</td>\n",
       "      <td>16</td>\n",
       "      <td>35</td>\n",
       "      <td>1.0</td>\n",
       "      <td>34</td>\n",
       "    </tr>\n",
       "    <tr>\n",
       "      <th>3</th>\n",
       "      <td>2</td>\n",
       "      <td>20</td>\n",
       "      <td>45</td>\n",
       "      <td>1.0</td>\n",
       "      <td>43</td>\n",
       "    </tr>\n",
       "    <tr>\n",
       "      <th>4</th>\n",
       "      <td>1</td>\n",
       "      <td>24</td>\n",
       "      <td>77</td>\n",
       "      <td>0.0</td>\n",
       "      <td>76</td>\n",
       "    </tr>\n",
       "    <tr>\n",
       "      <th>...</th>\n",
       "      <td>...</td>\n",
       "      <td>...</td>\n",
       "      <td>...</td>\n",
       "      <td>...</td>\n",
       "      <td>...</td>\n",
       "    </tr>\n",
       "    <tr>\n",
       "      <th>195</th>\n",
       "      <td>16</td>\n",
       "      <td>1</td>\n",
       "      <td>16</td>\n",
       "      <td>NaN</td>\n",
       "      <td>0</td>\n",
       "    </tr>\n",
       "    <tr>\n",
       "      <th>196</th>\n",
       "      <td>21</td>\n",
       "      <td>2</td>\n",
       "      <td>23</td>\n",
       "      <td>NaN</td>\n",
       "      <td>2</td>\n",
       "    </tr>\n",
       "    <tr>\n",
       "      <th>197</th>\n",
       "      <td>23</td>\n",
       "      <td>8</td>\n",
       "      <td>46</td>\n",
       "      <td>NaN</td>\n",
       "      <td>23</td>\n",
       "    </tr>\n",
       "    <tr>\n",
       "      <th>198</th>\n",
       "      <td>23</td>\n",
       "      <td>2</td>\n",
       "      <td>28</td>\n",
       "      <td>NaN</td>\n",
       "      <td>5</td>\n",
       "    </tr>\n",
       "    <tr>\n",
       "      <th>199</th>\n",
       "      <td>4</td>\n",
       "      <td>11</td>\n",
       "      <td>64</td>\n",
       "      <td>NaN</td>\n",
       "      <td>60</td>\n",
       "    </tr>\n",
       "  </tbody>\n",
       "</table>\n",
       "<p>776 rows × 5 columns</p>\n",
       "</div>"
      ],
      "text/plain": [
       "     Months since Last Donation  Number of Donations  \\\n",
       "0                             2                   50   \n",
       "1                             0                   13   \n",
       "2                             1                   16   \n",
       "3                             2                   20   \n",
       "4                             1                   24   \n",
       "..                          ...                  ...   \n",
       "195                          16                    1   \n",
       "196                          21                    2   \n",
       "197                          23                    8   \n",
       "198                          23                    2   \n",
       "199                           4                   11   \n",
       "\n",
       "     Months since First Donation  Made Donation in March 2007  Donating for  \n",
       "0                             98                          1.0            96  \n",
       "1                             28                          1.0            28  \n",
       "2                             35                          1.0            34  \n",
       "3                             45                          1.0            43  \n",
       "4                             77                          0.0            76  \n",
       "..                           ...                          ...           ...  \n",
       "195                           16                          NaN             0  \n",
       "196                           23                          NaN             2  \n",
       "197                           46                          NaN            23  \n",
       "198                           28                          NaN             5  \n",
       "199                           64                          NaN            60  \n",
       "\n",
       "[776 rows x 5 columns]"
      ]
     },
     "execution_count": 12,
     "metadata": {},
     "output_type": "execute_result"
    }
   ],
   "source": [
    "print(df_train.columns)\n",
    "df_train.drop(['Unnamed: 0'],axis=1)"
   ]
  },
  {
   "cell_type": "code",
   "execution_count": 16,
   "id": "42eecd99",
   "metadata": {},
   "outputs": [
    {
     "data": {
      "text/plain": [
       "0.0    438\n",
       "1.0    138\n",
       "Name: Made Donation in March 2007, dtype: int64"
      ]
     },
     "execution_count": 16,
     "metadata": {},
     "output_type": "execute_result"
    }
   ],
   "source": [
    "df_train[\"Made Donation in March 2007\"].value_counts() # check distribution of data training dataset"
   ]
  },
  {
   "cell_type": "code",
   "execution_count": 33,
   "id": "f05fa109",
   "metadata": {},
   "outputs": [
    {
     "data": {
      "text/html": [
       "<div>\n",
       "<style scoped>\n",
       "    .dataframe tbody tr th:only-of-type {\n",
       "        vertical-align: middle;\n",
       "    }\n",
       "\n",
       "    .dataframe tbody tr th {\n",
       "        vertical-align: top;\n",
       "    }\n",
       "\n",
       "    .dataframe thead th {\n",
       "        text-align: right;\n",
       "    }\n",
       "</style>\n",
       "<table border=\"1\" class=\"dataframe\">\n",
       "  <thead>\n",
       "    <tr style=\"text-align: right;\">\n",
       "      <th></th>\n",
       "      <th>Unnamed: 0</th>\n",
       "      <th>Months since Last Donation</th>\n",
       "      <th>Number of Donations</th>\n",
       "      <th>Months since First Donation</th>\n",
       "      <th>Donating for</th>\n",
       "    </tr>\n",
       "  </thead>\n",
       "  <tbody>\n",
       "    <tr>\n",
       "      <th>0</th>\n",
       "      <td>619</td>\n",
       "      <td>2</td>\n",
       "      <td>50</td>\n",
       "      <td>98</td>\n",
       "      <td>96</td>\n",
       "    </tr>\n",
       "    <tr>\n",
       "      <th>1</th>\n",
       "      <td>664</td>\n",
       "      <td>0</td>\n",
       "      <td>13</td>\n",
       "      <td>28</td>\n",
       "      <td>28</td>\n",
       "    </tr>\n",
       "    <tr>\n",
       "      <th>2</th>\n",
       "      <td>441</td>\n",
       "      <td>1</td>\n",
       "      <td>16</td>\n",
       "      <td>35</td>\n",
       "      <td>34</td>\n",
       "    </tr>\n",
       "    <tr>\n",
       "      <th>3</th>\n",
       "      <td>160</td>\n",
       "      <td>2</td>\n",
       "      <td>20</td>\n",
       "      <td>45</td>\n",
       "      <td>43</td>\n",
       "    </tr>\n",
       "    <tr>\n",
       "      <th>4</th>\n",
       "      <td>358</td>\n",
       "      <td>1</td>\n",
       "      <td>24</td>\n",
       "      <td>77</td>\n",
       "      <td>76</td>\n",
       "    </tr>\n",
       "    <tr>\n",
       "      <th>...</th>\n",
       "      <td>...</td>\n",
       "      <td>...</td>\n",
       "      <td>...</td>\n",
       "      <td>...</td>\n",
       "      <td>...</td>\n",
       "    </tr>\n",
       "    <tr>\n",
       "      <th>195</th>\n",
       "      <td>103</td>\n",
       "      <td>16</td>\n",
       "      <td>1</td>\n",
       "      <td>16</td>\n",
       "      <td>0</td>\n",
       "    </tr>\n",
       "    <tr>\n",
       "      <th>196</th>\n",
       "      <td>224</td>\n",
       "      <td>21</td>\n",
       "      <td>2</td>\n",
       "      <td>23</td>\n",
       "      <td>2</td>\n",
       "    </tr>\n",
       "    <tr>\n",
       "      <th>197</th>\n",
       "      <td>454</td>\n",
       "      <td>23</td>\n",
       "      <td>8</td>\n",
       "      <td>46</td>\n",
       "      <td>23</td>\n",
       "    </tr>\n",
       "    <tr>\n",
       "      <th>198</th>\n",
       "      <td>585</td>\n",
       "      <td>23</td>\n",
       "      <td>2</td>\n",
       "      <td>28</td>\n",
       "      <td>5</td>\n",
       "    </tr>\n",
       "    <tr>\n",
       "      <th>199</th>\n",
       "      <td>154</td>\n",
       "      <td>4</td>\n",
       "      <td>11</td>\n",
       "      <td>64</td>\n",
       "      <td>60</td>\n",
       "    </tr>\n",
       "  </tbody>\n",
       "</table>\n",
       "<p>776 rows × 5 columns</p>\n",
       "</div>"
      ],
      "text/plain": [
       "     Unnamed: 0  Months since Last Donation  Number of Donations  \\\n",
       "0           619                           2                   50   \n",
       "1           664                           0                   13   \n",
       "2           441                           1                   16   \n",
       "3           160                           2                   20   \n",
       "4           358                           1                   24   \n",
       "..          ...                         ...                  ...   \n",
       "195         103                          16                    1   \n",
       "196         224                          21                    2   \n",
       "197         454                          23                    8   \n",
       "198         585                          23                    2   \n",
       "199         154                           4                   11   \n",
       "\n",
       "     Months since First Donation  Donating for  \n",
       "0                             98            96  \n",
       "1                             28            28  \n",
       "2                             35            34  \n",
       "3                             45            43  \n",
       "4                             77            76  \n",
       "..                           ...           ...  \n",
       "195                           16             0  \n",
       "196                           23             2  \n",
       "197                           46            23  \n",
       "198                           28             5  \n",
       "199                           64            60  \n",
       "\n",
       "[776 rows x 5 columns]"
      ]
     },
     "execution_count": 33,
     "metadata": {},
     "output_type": "execute_result"
    }
   ],
   "source": [
    "df_X = df_train.iloc[:, df_train.columns!='Made Donation in March 2007']\n",
    "df_Y = df_train.iloc[:, df_train.columns=='Made Donation in March 2007']\n",
    "df_X"
   ]
  },
  {
   "cell_type": "code",
   "execution_count": 34,
   "id": "46d7db78",
   "metadata": {},
   "outputs": [],
   "source": [
    "# Normalizing the Total Vloumne Donated Column because its values are very high as compared \n",
    "# to other column and will add biasness to this column\n",
    "from sklearn.preprocessing import StandardScaler\n",
    "scaler = StandardScaler()\n",
    "df_norm_X = scaler.fit_transform(df_X)"
   ]
  },
  {
   "cell_type": "code",
   "execution_count": 36,
   "id": "d842d9f2",
   "metadata": {},
   "outputs": [
    {
     "data": {
      "text/plain": [
       "((576, 5), (576, 1))"
      ]
     },
     "execution_count": 36,
     "metadata": {},
     "output_type": "execute_result"
    }
   ],
   "source": [
    "train = df_norm_X[:576 :]\n",
    "Y = df_Y[:576]\n",
    "train.shape, Y.shape"
   ]
  },
  {
   "cell_type": "code",
   "execution_count": 37,
   "id": "560dddb5",
   "metadata": {},
   "outputs": [],
   "source": [
    "from sklearn.model_selection import train_test_split\n",
    "x_train, x_test, y_train, y_test = train_test_split(X,Y, test_size=0.2, random_state=584) "
   ]
  },
  {
   "cell_type": "code",
   "execution_count": 38,
   "id": "a6e55c87",
   "metadata": {},
   "outputs": [
    {
     "name": "stdout",
     "output_type": "stream",
     "text": [
      "X_train.shape: (460, 5) \n",
      "X_test.shape: (116, 5) \n",
      "y_train.shape: (460, 1)\n",
      "y_test.shape: (116, 1)\n"
     ]
    }
   ],
   "source": [
    "print(\"X_train.shape: {} \\nX_test.shape: {} \\ny_train.shape: {}\\ny_test.shape: {}\".format(x_train.shape, x_test.shape, y_train.shape, y_test.shape))"
   ]
  },
  {
   "cell_type": "markdown",
   "id": "0ace4ec5",
   "metadata": {},
   "source": [
    "# Logistic Regression Model "
   ]
  },
  {
   "cell_type": "code",
   "execution_count": 57,
   "id": "1da9891f",
   "metadata": {},
   "outputs": [
    {
     "name": "stderr",
     "output_type": "stream",
     "text": [
      "C:\\Users\\xFlow\\anaconda3\\lib\\site-packages\\sklearn\\utils\\validation.py:993: DataConversionWarning: A column-vector y was passed when a 1d array was expected. Please change the shape of y to (n_samples, ), for example using ravel().\n",
      "  y = column_or_1d(y, warn=True)\n"
     ]
    },
    {
     "data": {
      "text/plain": [
       "LogisticRegression(random_state=7)"
      ]
     },
     "execution_count": 57,
     "metadata": {},
     "output_type": "execute_result"
    }
   ],
   "source": [
    "#Building The Model:\n",
    "from sklearn.linear_model import LogisticRegression\n",
    "logreg = LogisticRegression(random_state=7)\n",
    "# Fitting the model\n",
    "logreg.fit(x_train,y_train)"
   ]
  },
  {
   "cell_type": "code",
   "execution_count": 58,
   "id": "f849a7db",
   "metadata": {},
   "outputs": [
    {
     "name": "stdout",
     "output_type": "stream",
     "text": [
      "Accuracy of our Model: 0.7672413793103449\n",
      "ROC Accuracy Score: 0.5419397116644822\n"
     ]
    }
   ],
   "source": [
    "# Prediction the test data\n",
    "pred = logreg.predict(x_test)\n",
    "# Now check the accuracy of our model \n",
    "print(\"Accuracy of our Model: {}\\nROC Accuracy Score: {}\".format(accuracy_score(pred,y_test), roc_auc_score(pred,y_test)))"
   ]
  },
  {
   "cell_type": "markdown",
   "id": "da8f6c89",
   "metadata": {},
   "source": [
    "# SVM Model"
   ]
  },
  {
   "cell_type": "code",
   "execution_count": 59,
   "id": "c434833e",
   "metadata": {
    "scrolled": true
   },
   "outputs": [
    {
     "name": "stderr",
     "output_type": "stream",
     "text": [
      "C:\\Users\\xFlow\\anaconda3\\lib\\site-packages\\sklearn\\utils\\validation.py:993: DataConversionWarning: A column-vector y was passed when a 1d array was expected. Please change the shape of y to (n_samples, ), for example using ravel().\n",
      "  y = column_or_1d(y, warn=True)\n"
     ]
    },
    {
     "data": {
      "text/plain": [
       "SVC(probability=True)"
      ]
     },
     "execution_count": 59,
     "metadata": {},
     "output_type": "execute_result"
    }
   ],
   "source": [
    "#Building The Model:\n",
    "from sklearn.svm import SVC\n",
    "SVMC = SVC(probability=True)\n",
    "# Fitting the model\n",
    "SVMC.fit(x_train,y_train)"
   ]
  },
  {
   "cell_type": "code",
   "execution_count": 60,
   "id": "1560d956",
   "metadata": {},
   "outputs": [
    {
     "name": "stdout",
     "output_type": "stream",
     "text": [
      "Accuracy of our Model: 0.7931034482758621\n",
      "Confustion Matrix:\n",
      " [[89 21]\n",
      " [ 3  3]]\n",
      "ROC Score:  0.6545454545454545\n"
     ]
    }
   ],
   "source": [
    "# Prediction the test data\n",
    "pred = SVMC.predict(x_test)\n",
    "# Now check the accuracy of our model \n",
    "print(\"Accuracy of our Model: {}\\nConfustion Matrix:\\n {}\".format(accuracy_score(pred,y_test), confusion_matrix(pred,y_test)))\n",
    "print(\"ROC Score: \",roc_auc_score(pred,y_test))"
   ]
  },
  {
   "cell_type": "markdown",
   "id": "98dd1d7c",
   "metadata": {},
   "source": [
    "# Random Forest"
   ]
  },
  {
   "cell_type": "code",
   "execution_count": 61,
   "id": "e8ff2a5f",
   "metadata": {},
   "outputs": [
    {
     "name": "stderr",
     "output_type": "stream",
     "text": [
      "C:\\Users\\xFlow\\AppData\\Local\\Temp\\ipykernel_4888\\241781193.py:5: DataConversionWarning: A column-vector y was passed when a 1d array was expected. Please change the shape of y to (n_samples,), for example using ravel().\n",
      "  RFC.fit(x_train,y_train)\n"
     ]
    },
    {
     "data": {
      "text/plain": [
       "RandomForestClassifier()"
      ]
     },
     "execution_count": 61,
     "metadata": {},
     "output_type": "execute_result"
    }
   ],
   "source": [
    "#Building The Model:\n",
    "from sklearn.ensemble import RandomForestClassifier\n",
    "RFC = RandomForestClassifier()\n",
    "# Fitting the model\n",
    "RFC.fit(x_train,y_train)"
   ]
  },
  {
   "cell_type": "code",
   "execution_count": 62,
   "id": "a0b95e64",
   "metadata": {},
   "outputs": [
    {
     "name": "stdout",
     "output_type": "stream",
     "text": [
      "Accuracy of our Model: 0.7413793103448276\n",
      "ROC Confustion Matrix:\n",
      " [[77 15]\n",
      " [15  9]]\n",
      "ROC Score:  0.6059782608695652\n"
     ]
    }
   ],
   "source": [
    "# Prediction the test data\n",
    "pred = RFC.predict(x_test)\n",
    "# Now check the accuracy of our model \n",
    "print(\"Accuracy of our Model: {}\\nROC Confustion Matrix:\\n {}\".format(accuracy_score(pred,y_test), confusion_matrix(pred,y_test)))\n",
    "print(\"ROC Score: \",roc_auc_score(pred,y_test))"
   ]
  },
  {
   "cell_type": "markdown",
   "id": "954b8be2",
   "metadata": {},
   "source": [
    "# Decision Tree Model "
   ]
  },
  {
   "cell_type": "code",
   "execution_count": 66,
   "id": "3563de24",
   "metadata": {},
   "outputs": [
    {
     "data": {
      "text/plain": [
       "DecisionTreeClassifier(max_depth=15, max_features=3, max_leaf_nodes=4)"
      ]
     },
     "execution_count": 66,
     "metadata": {},
     "output_type": "execute_result"
    }
   ],
   "source": [
    "#Building The Model:\n",
    "from sklearn.tree import DecisionTreeClassifier\n",
    "model = DecisionTreeClassifier(max_leaf_nodes=4, max_features=3, max_depth=15)\n",
    "# Fitting the model\n",
    "model.fit(x_train,y_train)"
   ]
  },
  {
   "cell_type": "code",
   "execution_count": 67,
   "id": "98d7a733",
   "metadata": {},
   "outputs": [
    {
     "name": "stdout",
     "output_type": "stream",
     "text": [
      "Accuracy of our Model: 0.7758620689655172\n",
      "Confustion Matrix:\n",
      " [[81 15]\n",
      " [11  9]]\n",
      "ROC Score:  0.646875\n"
     ]
    }
   ],
   "source": [
    "# Prediction the test data\n",
    "pred = model.predict(x_test)\n",
    "# Now check the accuracy of our model \n",
    "print(\"Accuracy of our Model: {}\\nConfustion Matrix:\\n {}\".format(accuracy_score(pred,y_test), confusion_matrix(pred,y_test)))\n",
    "print(\"ROC Score: \",roc_auc_score(pred,y_test))"
   ]
  },
  {
   "cell_type": "code",
   "execution_count": 72,
   "id": "3db14eae",
   "metadata": {},
   "outputs": [
    {
     "name": "stderr",
     "output_type": "stream",
     "text": [
      "C:\\Users\\xFlow\\anaconda3\\lib\\site-packages\\sklearn\\neural_network\\_multilayer_perceptron.py:1109: DataConversionWarning: A column-vector y was passed when a 1d array was expected. Please change the shape of y to (n_samples, ), for example using ravel().\n",
      "  y = column_or_1d(y, warn=True)\n",
      "C:\\Users\\xFlow\\anaconda3\\lib\\site-packages\\sklearn\\neural_network\\_multilayer_perceptron.py:549: ConvergenceWarning: lbfgs failed to converge (status=1):\n",
      "STOP: TOTAL NO. of ITERATIONS REACHED LIMIT.\n",
      "\n",
      "Increase the number of iterations (max_iter) or scale the data as shown in:\n",
      "    https://scikit-learn.org/stable/modules/preprocessing.html\n",
      "  self.n_iter_ = _check_optimize_result(\"lbfgs\", opt_res, self.max_iter)\n"
     ]
    },
    {
     "data": {
      "text/plain": [
       "MLPClassifier(alpha=1e-08, hidden_layer_sizes=(35,), random_state=1,\n",
       "              solver='lbfgs')"
      ]
     },
     "execution_count": 72,
     "metadata": {},
     "output_type": "execute_result"
    }
   ],
   "source": [
    "#Building The Model:\n",
    "from sklearn.neural_network import MLPClassifier\n",
    "mlpc = MLPClassifier(solver='lbfgs', alpha=1e-8, hidden_layer_sizes=(35,),random_state=1)\n",
    "# Fitting the model\n",
    "mlpc.fit(x_train,y_train)"
   ]
  },
  {
   "cell_type": "code",
   "execution_count": 73,
   "id": "a6c44326",
   "metadata": {},
   "outputs": [
    {
     "name": "stdout",
     "output_type": "stream",
     "text": [
      "Accuracy of our Model: 0.6810344827586207\n",
      "Confustion Matrix:\n",
      " [[72 17]\n",
      " [20  7]]\n",
      "ROC Score:  0.5341240116521015\n"
     ]
    }
   ],
   "source": [
    "# Prediction the test data\n",
    "pred = mlpc.predict(x_test)\n",
    "# Now check the accuracy of our model \n",
    "print(\"Accuracy of our Model: {}\\nConfustion Matrix:\\n {}\".format(accuracy_score(pred,y_test), confusion_matrix(pred,y_test)))\n",
    "print(\"ROC Score: \",roc_auc_score(pred,y_test))"
   ]
  },
  {
   "cell_type": "code",
   "execution_count": null,
   "id": "801f53ee",
   "metadata": {},
   "outputs": [],
   "source": []
  }
 ],
 "metadata": {
  "kernelspec": {
   "display_name": "Python 3 (ipykernel)",
   "language": "python",
   "name": "python3"
  },
  "language_info": {
   "codemirror_mode": {
    "name": "ipython",
    "version": 3
   },
   "file_extension": ".py",
   "mimetype": "text/x-python",
   "name": "python",
   "nbconvert_exporter": "python",
   "pygments_lexer": "ipython3",
   "version": "3.9.13"
  }
 },
 "nbformat": 4,
 "nbformat_minor": 5
}
